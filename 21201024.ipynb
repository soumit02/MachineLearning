{
  "nbformat": 4,
  "nbformat_minor": 0,
  "metadata": {
    "colab": {
      "provenance": []
    },
    "kernelspec": {
      "name": "python3",
      "display_name": "Python 3"
    },
    "language_info": {
      "name": "python"
    }
  },
  "cells": [
    {
      "cell_type": "markdown",
      "source": [
        "**Print**"
      ],
      "metadata": {
        "id": "pUQWMxaUfU7y"
      }
    },
    {
      "cell_type": "code",
      "source": [
        "# 1.Print name\n",
        "print(\"Soumit Dey\")"
      ],
      "metadata": {
        "colab": {
          "base_uri": "https://localhost:8080/"
        },
        "id": "exaL6w0mfaeX",
        "outputId": "3fdc1e0b-e6c1-4db2-b971-99c57fc57617"
      },
      "execution_count": null,
      "outputs": [
        {
          "output_type": "stream",
          "name": "stdout",
          "text": [
            "Soumit Dey\n"
          ]
        }
      ]
    },
    {
      "cell_type": "code",
      "source": [
        "# 2.Print in new line\n",
        "print(\"My name is Soumit Dey.\\nAnd I live in Bangladesh\")"
      ],
      "metadata": {
        "colab": {
          "base_uri": "https://localhost:8080/"
        },
        "id": "lWGgXjDFf1Cp",
        "outputId": "9fa6fad4-f496-49c2-d01c-0bb472129c1f"
      },
      "execution_count": null,
      "outputs": [
        {
          "output_type": "stream",
          "name": "stdout",
          "text": [
            "My name is Soumit Dey.\n",
            "And I live in Bangladesh\n"
          ]
        }
      ]
    },
    {
      "cell_type": "code",
      "source": [
        "# 3.Print in one line\n",
        "print(\"My name is Soumit Dey.\",end=\"\")\n",
        "print(\"And I live in Bangladesh\")"
      ],
      "metadata": {
        "colab": {
          "base_uri": "https://localhost:8080/"
        },
        "id": "Lr_ElYtqgQqu",
        "outputId": "252f4294-dae1-48b0-9b17-97b05e360651"
      },
      "execution_count": null,
      "outputs": [
        {
          "output_type": "stream",
          "name": "stdout",
          "text": [
            "My name is Soumit Dey.And I live in Bangladesh\n"
          ]
        }
      ]
    },
    {
      "cell_type": "code",
      "source": [
        "# 4.Print list\n",
        "country=['Bangladesh','India','Pakistan','Srilanka','Nepal']\n",
        "print(country)"
      ],
      "metadata": {
        "colab": {
          "base_uri": "https://localhost:8080/"
        },
        "id": "R2YfSSsQiyP3",
        "outputId": "11d207ad-6028-4567-b33c-12fdb98df2ef"
      },
      "execution_count": null,
      "outputs": [
        {
          "output_type": "stream",
          "name": "stdout",
          "text": [
            "['Bangladesh', 'India', 'Pakistan', 'Srilanka', 'Nepal']\n"
          ]
        }
      ]
    },
    {
      "cell_type": "code",
      "source": [
        "# 5.Print replace function\n",
        "word=\"Ball room\"\n",
        "print(word.replace(\"B\",\"H\"))"
      ],
      "metadata": {
        "colab": {
          "base_uri": "https://localhost:8080/"
        },
        "id": "H6e6-JxrjS34",
        "outputId": "c83e2f45-4c3a-493f-8815-18195998954c"
      },
      "execution_count": null,
      "outputs": [
        {
          "output_type": "stream",
          "name": "stdout",
          "text": [
            "Hall room\n"
          ]
        }
      ]
    },
    {
      "cell_type": "markdown",
      "source": [
        "Variable"
      ],
      "metadata": {
        "id": "E1PSjjlCkPGP"
      }
    },
    {
      "cell_type": "code",
      "source": [
        "# 1.Simple type of variable\n",
        "name=\"Soumit Dey\"\n",
        "age=22\n",
        "print(\"My name is\",name)\n",
        "print(\"I am\",age,\"years old.\")"
      ],
      "metadata": {
        "colab": {
          "base_uri": "https://localhost:8080/"
        },
        "id": "zhNykvcOkavC",
        "outputId": "0c0056f7-c306-4133-e2e7-0e119dfd185d"
      },
      "execution_count": null,
      "outputs": [
        {
          "output_type": "stream",
          "name": "stdout",
          "text": [
            "My name is Soumit Dey\n",
            "I am 22 years old.\n"
          ]
        }
      ]
    },
    {
      "cell_type": "code",
      "source": [
        "# 2. Variable type\n",
        "a=10\n",
        "b=20.4\n",
        "c=\"Bangladesh\"\n",
        "d=False\n",
        "print(type(a),type(b),type(c),type(d))"
      ],
      "metadata": {
        "colab": {
          "base_uri": "https://localhost:8080/"
        },
        "id": "liWfqG3VlQPP",
        "outputId": "29da9183-86d7-4729-f01c-9c64c62fbdf1"
      },
      "execution_count": null,
      "outputs": [
        {
          "output_type": "stream",
          "name": "stdout",
          "text": [
            "<class 'int'> <class 'float'> <class 'str'> <class 'bool'>\n"
          ]
        }
      ]
    },
    {
      "cell_type": "code",
      "source": [
        "# 3. Variable concat\n",
        "poet=\"greatest English author\"\n",
        "age=15\n",
        "print(\"Milton is described as the \"+poet+\" by biographer William Hayley.Milton's first datable compositions are two psalms written at age\",age,\"at Long Bennington.\")"
      ],
      "metadata": {
        "colab": {
          "base_uri": "https://localhost:8080/"
        },
        "id": "GfzM5Ajnl9CH",
        "outputId": "ebd204ac-2cab-4058-dc92-02d7d3f1f0e8"
      },
      "execution_count": null,
      "outputs": [
        {
          "output_type": "stream",
          "name": "stdout",
          "text": [
            "Milton is described as the greatest English author by biographer William Hayley.Milton's first datable compositions are two psalms written at age 15 at Long Bennington.\n"
          ]
        }
      ]
    },
    {
      "cell_type": "code",
      "source": [
        "# 4. adding number\n",
        "a=10\n",
        "b=20\n",
        "c=30\n",
        "sum=a+b+c\n",
        "print(sum)"
      ],
      "metadata": {
        "colab": {
          "base_uri": "https://localhost:8080/"
        },
        "id": "rP58UxnypbOz",
        "outputId": "df309686-db26-440d-cf29-897af36b1382"
      },
      "execution_count": null,
      "outputs": [
        {
          "output_type": "stream",
          "name": "stdout",
          "text": [
            "60\n"
          ]
        }
      ]
    },
    {
      "cell_type": "code",
      "source": [
        "# 5. Area of Triangle\n",
        "base=3\n",
        "height=5\n",
        "triangle=0.5*base*height\n",
        "print(triangle)"
      ],
      "metadata": {
        "colab": {
          "base_uri": "https://localhost:8080/"
        },
        "id": "-KocoPsoqA9A",
        "outputId": "852cfc82-6782-49ca-f323-2fc62414aa0f"
      },
      "execution_count": null,
      "outputs": [
        {
          "output_type": "stream",
          "name": "stdout",
          "text": [
            "7.5\n"
          ]
        }
      ]
    },
    {
      "cell_type": "markdown",
      "source": [
        "Operations"
      ],
      "metadata": {
        "id": "KFBkpT0FsHnH"
      }
    },
    {
      "cell_type": "code",
      "source": [
        "# 1.Numerical operator\n",
        "a=11\n",
        "b=5\n",
        "print(a+b)\n",
        "print(a-b)\n",
        "print(a*b)\n",
        "print(a/b)\n",
        "print(a%b)\n",
        "print(a//b)"
      ],
      "metadata": {
        "colab": {
          "base_uri": "https://localhost:8080/"
        },
        "id": "m2Vw9fxAsOLf",
        "outputId": "36691cf0-8785-4914-b389-48fe739a0cba"
      },
      "execution_count": null,
      "outputs": [
        {
          "output_type": "stream",
          "name": "stdout",
          "text": [
            "16\n",
            "6\n",
            "55\n",
            "2.2\n",
            "1\n",
            "2\n"
          ]
        }
      ]
    },
    {
      "cell_type": "code",
      "source": [
        "# 2. Relational operator\n",
        "a=50\n",
        "b=20\n",
        "print(a==b)\n",
        "print(a!=b)\n",
        "print(a>b)\n",
        "print(a<b)"
      ],
      "metadata": {
        "colab": {
          "base_uri": "https://localhost:8080/"
        },
        "id": "0ig5x2tKtiZU",
        "outputId": "d7e2aef9-16ba-44ea-a723-01c238840a9d"
      },
      "execution_count": null,
      "outputs": [
        {
          "output_type": "stream",
          "name": "stdout",
          "text": [
            "False\n",
            "True\n",
            "True\n",
            "False\n"
          ]
        }
      ]
    },
    {
      "cell_type": "code",
      "source": [
        "# 3.Logical Operator\n",
        "ch='U'\n",
        "ch=ch.lower()\n",
        "if ch=='a'or ch=='e'or ch=='i'or ch=='o'or ch=='u':\n",
        "  print(\"Vowel\")\n",
        "else:\n",
        "  print(\"Consonent\")\n",
        "\n"
      ],
      "metadata": {
        "colab": {
          "base_uri": "https://localhost:8080/"
        },
        "id": "K-cvEK_yyhzS",
        "outputId": "0d726911-f147-4577-a0c1-2904e6b8ee52"
      },
      "execution_count": null,
      "outputs": [
        {
          "output_type": "stream",
          "name": "stdout",
          "text": [
            "Vowel\n"
          ]
        }
      ]
    },
    {
      "cell_type": "code",
      "source": [
        "# 4.Membership Operator\n",
        "country=[\"Bangladesh\",\"India\",\"Pakistan\"]\n",
        "print(\"Bangladesh\" in country)\n",
        "print(\"Nepal\" not in country)"
      ],
      "metadata": {
        "id": "Ih8MrqS7zc0-",
        "colab": {
          "base_uri": "https://localhost:8080/"
        },
        "outputId": "5b073848-2fbb-422b-cc9c-c14ac9c087f3"
      },
      "execution_count": null,
      "outputs": [
        {
          "output_type": "stream",
          "name": "stdout",
          "text": [
            "True\n",
            "True\n"
          ]
        }
      ]
    },
    {
      "cell_type": "code",
      "source": [
        "# 5.Identity Operators\n",
        "x = [1, 2, 3]\n",
        "x = [2, 2, 3]\n",
        "\n",
        "print(x is x)\n",
        "print(x is not x)"
      ],
      "metadata": {
        "colab": {
          "base_uri": "https://localhost:8080/"
        },
        "id": "9EYMXgQJeaNW",
        "outputId": "16cef49b-41e6-4aef-f93d-8b97b87bf436"
      },
      "execution_count": null,
      "outputs": [
        {
          "output_type": "stream",
          "name": "stdout",
          "text": [
            "True\n",
            "False\n"
          ]
        }
      ]
    },
    {
      "cell_type": "markdown",
      "source": [
        "String"
      ],
      "metadata": {
        "id": "Pn5Z5o1IkRl8"
      }
    },
    {
      "cell_type": "code",
      "source": [
        "# 1. String formating\n",
        "name=\"Soumit Dey\"\n",
        "age=22\n",
        "print(f\"My name is {name}.I am {age} years old.\")"
      ],
      "metadata": {
        "colab": {
          "base_uri": "https://localhost:8080/"
        },
        "id": "V94PLbhkkVHG",
        "outputId": "dfd93bb1-227e-4be1-ca76-bebfbe29adea"
      },
      "execution_count": null,
      "outputs": [
        {
          "output_type": "stream",
          "name": "stdout",
          "text": [
            "My name is Soumit Dey.I am 22 years old.\n"
          ]
        }
      ]
    },
    {
      "cell_type": "code",
      "source": [
        "# 2.String using join\n",
        "letter = ['h', 'e', 'l','l','o']\n",
        "print(\"\".join(letter))"
      ],
      "metadata": {
        "colab": {
          "base_uri": "https://localhost:8080/"
        },
        "id": "PrO98hdXmtuZ",
        "outputId": "d7239a73-c518-450b-c7c7-118307ee9796"
      },
      "execution_count": null,
      "outputs": [
        {
          "output_type": "stream",
          "name": "stdout",
          "text": [
            "hello\n"
          ]
        }
      ]
    },
    {
      "cell_type": "code",
      "source": [
        "# 3. String upper lower\n",
        "text = \"hello world\"\n",
        "print(text.upper())"
      ],
      "metadata": {
        "colab": {
          "base_uri": "https://localhost:8080/"
        },
        "id": "BT9hgBJ3nrZm",
        "outputId": "ead91d04-a635-4a29-d855-cea6acbc851d"
      },
      "execution_count": null,
      "outputs": [
        {
          "output_type": "stream",
          "name": "stdout",
          "text": [
            "HELLO WORLD\n"
          ]
        }
      ]
    },
    {
      "cell_type": "code",
      "source": [
        "# 4.Concat string\n",
        "a=\"Joy\"\n",
        "b=\"Bangla\"\n",
        "print(a+\" \"+b)"
      ],
      "metadata": {
        "colab": {
          "base_uri": "https://localhost:8080/"
        },
        "id": "XzHRZEGlqMQG",
        "outputId": "9baa327d-b01f-4420-94af-605831e0a01f"
      },
      "execution_count": null,
      "outputs": [
        {
          "output_type": "stream",
          "name": "stdout",
          "text": [
            "Joy Bangla\n"
          ]
        }
      ]
    },
    {
      "cell_type": "code",
      "source": [
        "# 5.Indexing string\n",
        "text=\"hello world\"\n",
        "print(text[1:-3])\n",
        "print(text[1:-2:2])"
      ],
      "metadata": {
        "colab": {
          "base_uri": "https://localhost:8080/"
        },
        "id": "FPHnfIZVuAOl",
        "outputId": "d7b2500b-4299-492f-b0a4-715225ba1e72"
      },
      "execution_count": null,
      "outputs": [
        {
          "output_type": "stream",
          "name": "stdout",
          "text": [
            "ello wo\n",
            "el o\n"
          ]
        }
      ]
    },
    {
      "cell_type": "markdown",
      "source": [
        "Control flow"
      ],
      "metadata": {
        "id": "SztG84ufwclj"
      }
    },
    {
      "cell_type": "code",
      "source": [
        "# 1.Even number\n",
        "num=100\n",
        "if num%2==0:\n",
        "  print(\"Even\")\n",
        "else:\n",
        "  print(\"Odd\")"
      ],
      "metadata": {
        "colab": {
          "base_uri": "https://localhost:8080/"
        },
        "id": "MvT9gduvwhMX",
        "outputId": "41d38dd2-0367-4501-9a40-520fe97207be"
      },
      "execution_count": null,
      "outputs": [
        {
          "output_type": "stream",
          "name": "stdout",
          "text": [
            "Even\n"
          ]
        }
      ]
    },
    {
      "cell_type": "code",
      "source": [
        "# 2. marks distribution\n",
        "marks=77\n",
        "if 100>=marks>=80:\n",
        "  print(\"A+\")\n",
        "elif 79>=marks>=70:\n",
        "  print(\"A\")\n",
        "elif 69>=marks>=60:\n",
        "  print(\"A-\")\n",
        "elif 59>=marks>=50:\n",
        "  print(\"B\")\n",
        "elif marks<50:\n",
        "  print(\"Fail\")\n",
        "else:\n",
        "  print(\"Invalid\")\n",
        "\n"
      ],
      "metadata": {
        "colab": {
          "base_uri": "https://localhost:8080/"
        },
        "id": "H7NdxeB9w-Xf",
        "outputId": "99da249a-846a-403f-fabd-ccf2b0b0a7b2"
      },
      "execution_count": null,
      "outputs": [
        {
          "output_type": "stream",
          "name": "stdout",
          "text": [
            "A\n"
          ]
        }
      ]
    },
    {
      "cell_type": "code",
      "source": [
        "# 3.Find large number\n",
        "num1=10\n",
        "num2=20\n",
        "num3=30\n",
        "if num1>num2 and num1>num3:\n",
        "  print(num1)\n",
        "elif num2>num1 and num2>num3:\n",
        "  print(num2)\n",
        "else:\n",
        "  print(num3)"
      ],
      "metadata": {
        "colab": {
          "base_uri": "https://localhost:8080/"
        },
        "id": "KnhKrJoZzTyS",
        "outputId": "b3cdfb1a-c2ea-4c94-9b98-6905699b6c0b"
      },
      "execution_count": null,
      "outputs": [
        {
          "output_type": "stream",
          "name": "stdout",
          "text": [
            "30\n"
          ]
        }
      ]
    },
    {
      "cell_type": "code",
      "source": [
        "# 4.Postive and negative\n",
        "num=-100\n",
        "if num>0:\n",
        "  print(\"Postive\")\n",
        "elif num<0:\n",
        "  print(\"negative\")\n",
        "else:\n",
        "  print(\"Zero\")\n"
      ],
      "metadata": {
        "colab": {
          "base_uri": "https://localhost:8080/"
        },
        "id": "sDy-9QPz3VEC",
        "outputId": "4b269ea2-0bc0-4d88-bb73-c0b1032a6712"
      },
      "execution_count": null,
      "outputs": [
        {
          "output_type": "stream",
          "name": "stdout",
          "text": [
            "negative\n"
          ]
        }
      ]
    },
    {
      "cell_type": "code",
      "source": [
        "# 5.ternary operator\n",
        "num1=10\n",
        "num2=100\n",
        "number = num1 if num1>num2 else num2\n",
        "print(\"The large number is\",number)\n"
      ],
      "metadata": {
        "colab": {
          "base_uri": "https://localhost:8080/"
        },
        "id": "lN1jrIXmB9OM",
        "outputId": "49a86df1-77e6-4a89-88be-aa693e6a9e7c"
      },
      "execution_count": null,
      "outputs": [
        {
          "output_type": "stream",
          "name": "stdout",
          "text": [
            "The large number is 100\n"
          ]
        }
      ]
    },
    {
      "cell_type": "markdown",
      "source": [
        "User Input"
      ],
      "metadata": {
        "id": "_DMm4rWaO0d_"
      }
    },
    {
      "cell_type": "code",
      "source": [
        "# 1.Just String\n",
        "a=input(\"Take first number:\")\n",
        "b=input(\"Take second number:\")\n",
        "c=a+b\n",
        "print(c)"
      ],
      "metadata": {
        "colab": {
          "base_uri": "https://localhost:8080/"
        },
        "id": "6ABnUxJHO4bL",
        "outputId": "f1af8bf9-95ef-4713-b7d9-ed416f41c7f3"
      },
      "execution_count": null,
      "outputs": [
        {
          "output_type": "stream",
          "name": "stdout",
          "text": [
            "Take first number:10\n",
            "Take second number:5\n",
            "105\n"
          ]
        }
      ]
    },
    {
      "cell_type": "code",
      "source": [
        "# 2.normal problem\n",
        "name=input(\"Enter a country:\")\n",
        "list=[\"Bangladesh\",\"India\",\"Pakistan\",\"USA\"]\n",
        "if name in list:\n",
        "  print(\"Exists\")\n",
        "else:\n",
        "  print(\"Not Exists\")"
      ],
      "metadata": {
        "colab": {
          "base_uri": "https://localhost:8080/"
        },
        "id": "aUDAGpcRaB14",
        "outputId": "c5cfc5fa-68aa-4071-b28a-32ef5f830f19"
      },
      "execution_count": null,
      "outputs": [
        {
          "output_type": "stream",
          "name": "stdout",
          "text": [
            "Enter a country:Nepal\n",
            "Not Exists\n"
          ]
        }
      ]
    },
    {
      "cell_type": "code",
      "source": [
        "# 3. Normal Calculation\n",
        "a=int(input(\"Enter first number:\"))\n",
        "b=int(input(\"Enter second number:\"))\n",
        "sum=a+b\n",
        "sub=a-b\n",
        "print(\"sum is :\",sum)\n",
        "print(\"sub is :\",sub)\n"
      ],
      "metadata": {
        "colab": {
          "base_uri": "https://localhost:8080/"
        },
        "id": "6AR0PRW2b8_z",
        "outputId": "3b9c426d-3969-4caf-ed99-f1499aaf53bf"
      },
      "execution_count": null,
      "outputs": [
        {
          "output_type": "stream",
          "name": "stdout",
          "text": [
            "Enter first number:5\n",
            "Enter second number:10\n",
            "sum is : 15\n",
            "sub is : -5\n"
          ]
        }
      ]
    },
    {
      "cell_type": "code",
      "source": [
        "# 4.sum of n-th number\n",
        "n=int(input(\"Enter a number :\"))\n",
        "sum=0\n",
        "for i in range(1,n+1):\n",
        "  sum=sum+i\n",
        "print(\"The sum is :\",sum)\n"
      ],
      "metadata": {
        "colab": {
          "base_uri": "https://localhost:8080/"
        },
        "id": "63WM_xddd0rX",
        "outputId": "3a6820e2-6c9a-4daa-af62-987307610f93"
      },
      "execution_count": null,
      "outputs": [
        {
          "output_type": "stream",
          "name": "stdout",
          "text": [
            "Enter a number :5\n",
            "The sum is : 15\n"
          ]
        }
      ]
    },
    {
      "cell_type": "code",
      "source": [
        "# 5.area of circle\n",
        "r=int(input(\"Give radius :\"))\n",
        "area=3.1416*r*r\n",
        "print(\"Area of Circle is :\",area)"
      ],
      "metadata": {
        "colab": {
          "base_uri": "https://localhost:8080/"
        },
        "id": "P6nBijc5hJtp",
        "outputId": "6d6d5c4f-238b-4164-b6af-50577db521b1"
      },
      "execution_count": null,
      "outputs": [
        {
          "output_type": "stream",
          "name": "stdout",
          "text": [
            "Give radius :5\n",
            "Area of Circle is : 78.54\n"
          ]
        }
      ]
    },
    {
      "cell_type": "markdown",
      "source": [
        "Loop"
      ],
      "metadata": {
        "id": "H1DPeE94krnL"
      }
    },
    {
      "cell_type": "code",
      "source": [
        "# 1.1*1+3*3+5*5+......+n*n\n",
        "n=int(input(\"Enter a number :\"))\n",
        "sum=0\n",
        "for i in range(1,n+1,2):\n",
        "  sum=sum+i*i\n",
        "print(sum)\n",
        "\n"
      ],
      "metadata": {
        "colab": {
          "base_uri": "https://localhost:8080/"
        },
        "id": "kw6klrOnkvLK",
        "outputId": "3cc56616-8cc0-45d6-d79e-d83099bdcea5"
      },
      "execution_count": null,
      "outputs": [
        {
          "output_type": "stream",
          "name": "stdout",
          "text": [
            "Enter a number :5\n",
            "35\n"
          ]
        }
      ]
    },
    {
      "cell_type": "code",
      "source": [
        "# 2. sum of even number\n",
        "n=input(\"Enter some number:\")\n",
        "list=n.split()\n",
        "sum=0\n",
        "for i in list:\n",
        "    if int(i)%2==0:\n",
        "        sum=sum+int(i)\n",
        "print(\"Sum of even number is\",sum)"
      ],
      "metadata": {
        "colab": {
          "base_uri": "https://localhost:8080/"
        },
        "id": "1G3D6fiAmwOO",
        "outputId": "cb620266-4878-43e9-ede8-122608a6524d"
      },
      "execution_count": null,
      "outputs": [
        {
          "output_type": "stream",
          "name": "stdout",
          "text": [
            "Enter some number:5 6 4 7\n",
            "Sum of even number is 10\n"
          ]
        }
      ]
    },
    {
      "cell_type": "code",
      "source": [
        "# 3.multiplication table\n",
        "n=int(input(\"Enter a number :\"))\n",
        "for i in range(1,11):\n",
        "  print(f\"{n} x {i} = {n*i}\")"
      ],
      "metadata": {
        "colab": {
          "base_uri": "https://localhost:8080/"
        },
        "id": "UrzLKZPcnK5o",
        "outputId": "26aa2530-11ec-407b-bafe-8682fb685367"
      },
      "execution_count": null,
      "outputs": [
        {
          "output_type": "stream",
          "name": "stdout",
          "text": [
            "Enter a number :9\n",
            "9 x 1 = 9\n",
            "9 x 2 = 18\n",
            "9 x 3 = 27\n",
            "9 x 4 = 36\n",
            "9 x 5 = 45\n",
            "9 x 6 = 54\n",
            "9 x 7 = 63\n",
            "9 x 8 = 72\n",
            "9 x 9 = 81\n",
            "9 x 10 = 90\n"
          ]
        }
      ]
    },
    {
      "cell_type": "code",
      "source": [
        "# 4.Guessing game\n",
        "from random import randint\n",
        "\n",
        "for i in range(1,5):\n",
        "  guessNumber=int(input(\"Enter a guess number between 1 to 5 :\"))\n",
        "  randomNumber=randint(1,5)\n",
        "  if guessNumber==randomNumber:\n",
        "    print(\"I have won\")\n",
        "  else:\n",
        "    print(\"I have lost\")\n",
        "    print(\"Random number was :\",randomNumber)"
      ],
      "metadata": {
        "colab": {
          "base_uri": "https://localhost:8080/"
        },
        "id": "0giQks-zsKLs",
        "outputId": "2166060e-f490-40ca-d59c-f9a47e8174de"
      },
      "execution_count": null,
      "outputs": [
        {
          "output_type": "stream",
          "name": "stdout",
          "text": [
            "Enter a guess number between 1 to 5 :2\n",
            "I have lost\n",
            "Random number was : 3\n",
            "Enter a guess number between 1 to 5 :3\n",
            "I have lost\n",
            "Random number was : 1\n",
            "Enter a guess number between 1 to 5 :1\n",
            "I have lost\n",
            "Random number was : 2\n",
            "Enter a guess number between 1 to 5 :4\n",
            "I have won\n"
          ]
        }
      ]
    },
    {
      "cell_type": "code",
      "source": [
        "# 5.print a list\n",
        "list=[\"Africa\",\"Europe\",\"Ocenia\",\"America\"]\n",
        "for i in list:\n",
        "  print(i)"
      ],
      "metadata": {
        "colab": {
          "base_uri": "https://localhost:8080/"
        },
        "id": "WBUTPZ2Zui7D",
        "outputId": "5e854ede-b403-4e04-84dd-fc59782590be"
      },
      "execution_count": null,
      "outputs": [
        {
          "output_type": "stream",
          "name": "stdout",
          "text": [
            "Africa\n",
            "Europe\n",
            "Ocenia\n",
            "America\n"
          ]
        }
      ]
    },
    {
      "cell_type": "markdown",
      "source": [
        "List"
      ],
      "metadata": {
        "id": "azxPUlRo-JkX"
      }
    },
    {
      "cell_type": "code",
      "source": [
        "# 1.List indexing\n",
        "list=[\"Bangladesh\",\"India\",\"Pakistan\",\"Nepal\",\"England\",\"USA\"]\n",
        "print(list[2:4])\n",
        "print(list[-2:-5])\n",
        "print(list[-2:-4:-2])"
      ],
      "metadata": {
        "colab": {
          "base_uri": "https://localhost:8080/"
        },
        "id": "2_jTRIdp-Mwx",
        "outputId": "8a388fbb-5a99-4998-c9d1-3b714791ef17"
      },
      "execution_count": null,
      "outputs": [
        {
          "output_type": "stream",
          "name": "stdout",
          "text": [
            "['Pakistan', 'Nepal']\n",
            "[]\n",
            "['England']\n"
          ]
        }
      ]
    },
    {
      "cell_type": "code",
      "source": [
        "# 2.concat list\n",
        "list=[\"Bangladesh\",\"India\",\"Pakistan\",\"Nepal\",\"England\",\"USA\"]\n",
        "print(list +[\"Bhutan\",77])"
      ],
      "metadata": {
        "colab": {
          "base_uri": "https://localhost:8080/"
        },
        "id": "OeDbAoYR_T_d",
        "outputId": "27462346-df2c-4a68-cb94-b21e1cb6a3ea"
      },
      "execution_count": null,
      "outputs": [
        {
          "output_type": "stream",
          "name": "stdout",
          "text": [
            "['Bangladesh', 'India', 'Pakistan', 'Nepal', 'England', 'USA', 'Bhutan', 77]\n"
          ]
        }
      ]
    },
    {
      "cell_type": "code",
      "source": [
        "# 3.append and insert\n",
        "list=[\"Bangladesh\",\"India\",\"Pakistan\",\"Nepal\",\"England\",\"USA\"]\n",
        "list.append(\"UAE\")\n",
        "print(list)\n",
        "list.insert(2,10)\n",
        "print(list)"
      ],
      "metadata": {
        "colab": {
          "base_uri": "https://localhost:8080/"
        },
        "id": "0mTKWS6yAAlu",
        "outputId": "94dafd47-3f03-40a0-a16d-1cf64b0b97ea"
      },
      "execution_count": null,
      "outputs": [
        {
          "output_type": "stream",
          "name": "stdout",
          "text": [
            "['Bangladesh', 'India', 'Pakistan', 'Nepal', 'England', 'USA', 'UAE']\n",
            "['Bangladesh', 'India', 10, 'Pakistan', 'Nepal', 'England', 'USA', 'UAE']\n"
          ]
        }
      ]
    },
    {
      "cell_type": "code",
      "source": [
        "# 4.Change list item\n",
        "list=[\"Bangladesh\",\"India\",\"Pakistan\",\"Nepal\",\"England\",\"USA\"]\n",
        "list[-2]=\"Fiji\"\n",
        "print(list)"
      ],
      "metadata": {
        "colab": {
          "base_uri": "https://localhost:8080/"
        },
        "id": "fVtZq-H5B9jA",
        "outputId": "02f747fc-790a-4f16-b61f-20e826292a52"
      },
      "execution_count": null,
      "outputs": [
        {
          "output_type": "stream",
          "name": "stdout",
          "text": [
            "['Bangladesh', 'India', 'Pakistan', 'Nepal', 'Fiji', 'USA']\n"
          ]
        }
      ]
    },
    {
      "cell_type": "code",
      "source": [
        "# 5.remove and pop\n",
        "list=[\"Bangladesh\",\"India\",\"Pakistan\",\"Nepal\",\"England\",\"USA\"]\n",
        "list.remove(\"Pakistan\")\n",
        "print(list)\n",
        "list.pop()\n",
        "print(list)"
      ],
      "metadata": {
        "colab": {
          "base_uri": "https://localhost:8080/"
        },
        "id": "Te-zi8XuCTJV",
        "outputId": "9ca1138a-d073-4d86-ea5b-4b1a1cd8237f"
      },
      "execution_count": null,
      "outputs": [
        {
          "output_type": "stream",
          "name": "stdout",
          "text": [
            "['Bangladesh', 'India', 'Nepal', 'England', 'USA']\n",
            "['Bangladesh', 'India', 'Nepal', 'England']\n"
          ]
        }
      ]
    },
    {
      "cell_type": "markdown",
      "source": [
        "Tuple"
      ],
      "metadata": {
        "id": "MsnaCnfpC8FA"
      }
    },
    {
      "cell_type": "code",
      "source": [
        "# 1.Print tuples\n",
        "tuples=(\n",
        "    (\"Soumit Dey\",22,3.90),\n",
        "    \"Matrix\",\n",
        "    \"Fuse\"\n",
        ")\n",
        "print(tuples)"
      ],
      "metadata": {
        "colab": {
          "base_uri": "https://localhost:8080/"
        },
        "id": "aATXXyDKC-qt",
        "outputId": "bf611704-2e2c-4af0-f96d-fde8173698a1"
      },
      "execution_count": null,
      "outputs": [
        {
          "output_type": "stream",
          "name": "stdout",
          "text": [
            "(('Soumit Dey', 22, 3.9), 'Matrix', 'Fuse')\n"
          ]
        }
      ]
    },
    {
      "cell_type": "code",
      "source": [
        "# 2.counting\n",
        "tuples = (1, 2, 2, 3, 2, 4)\n",
        "count=tuples.count(2)\n",
        "print(count)"
      ],
      "metadata": {
        "colab": {
          "base_uri": "https://localhost:8080/"
        },
        "id": "9YdShmcoL95g",
        "outputId": "6a96cfd0-f89d-44c2-af31-e932b8d4c185"
      },
      "execution_count": null,
      "outputs": [
        {
          "output_type": "stream",
          "name": "stdout",
          "text": [
            "3\n"
          ]
        }
      ]
    },
    {
      "cell_type": "code",
      "source": [
        "# 3. unpack multiple variable\n",
        "tuples=(1,2,3,4,\"string\",\"country\")\n",
        "a,b,c,*rest= tuples\n",
        "print(a,b,c)\n",
        "print(*rest)"
      ],
      "metadata": {
        "colab": {
          "base_uri": "https://localhost:8080/"
        },
        "id": "DbaIRb3uMZsj",
        "outputId": "ec4b0994-e37e-4f17-b6d6-1b555af308de"
      },
      "execution_count": null,
      "outputs": [
        {
          "output_type": "stream",
          "name": "stdout",
          "text": [
            "1 2 3\n",
            "4 string country\n"
          ]
        }
      ]
    },
    {
      "cell_type": "code",
      "source": [
        "# 4.update tuples\n",
        "tuples=(1,2,3,4,\"string\",\"country\")\n",
        "print(tuples + (\"c++\",\"python\"))"
      ],
      "metadata": {
        "colab": {
          "base_uri": "https://localhost:8080/"
        },
        "id": "vAs8KhcrQBEG",
        "outputId": "40394e48-30bc-48a5-970a-e9616c5f3292"
      },
      "execution_count": null,
      "outputs": [
        {
          "output_type": "stream",
          "name": "stdout",
          "text": [
            "(1, 2, 3, 4, 'string', 'country', 'c++', 'python')\n"
          ]
        }
      ]
    },
    {
      "cell_type": "code",
      "source": [
        "# 5.join tuple\n",
        "tuples1=(1,2,3,4,\"string\",\"country\")\n",
        "tuples2=(\"Bangladesh\",\"India\",\"Pakistan\",\"Nepal\",\"England\",\"USA\")\n",
        "tuples=tuples1+tuples2\n",
        "print(tuples)"
      ],
      "metadata": {
        "colab": {
          "base_uri": "https://localhost:8080/"
        },
        "id": "t3BR0SJ8QtTO",
        "outputId": "d5b42ffd-9d39-4e8a-f19b-ea5613b11f9b"
      },
      "execution_count": null,
      "outputs": [
        {
          "output_type": "stream",
          "name": "stdout",
          "text": [
            "(1, 2, 3, 4, 'string', 'country', 'Bangladesh', 'India', 'Pakistan', 'Nepal', 'England', 'USA')\n"
          ]
        }
      ]
    },
    {
      "cell_type": "markdown",
      "source": [
        "Dictionary"
      ],
      "metadata": {
        "id": "YOeeu5xRDTjz"
      }
    },
    {
      "cell_type": "code",
      "source": [
        "# 1.Print dictionary and change item\n",
        "country={\n",
        "    \"Bangladesh\":\"Dhaka\",\n",
        "    \"India\":\"New Delhi\",\n",
        "    \"Pakistan\":\"Islamabad\",\n",
        "    \"Nepal\":\"Katmandu\"\n",
        "}\n",
        "country[\"Nepal\"]=101\n",
        "print(country)\n"
      ],
      "metadata": {
        "colab": {
          "base_uri": "https://localhost:8080/"
        },
        "id": "m5s635GgDVWH",
        "outputId": "e63aac9b-2acb-467b-924a-ec03871770f3"
      },
      "execution_count": 4,
      "outputs": [
        {
          "output_type": "stream",
          "name": "stdout",
          "text": [
            "{'Bangladesh': 'Dhaka', 'India': 'New Delhi', 'Pakistan': 'Islamabad', 'Nepal': 101}\n"
          ]
        }
      ]
    },
    {
      "cell_type": "code",
      "source": [
        "# 2.add new item\n",
        "country={\n",
        "    \"Bangladesh\":\"Dhaka\",\n",
        "    \"India\":\"New Delhi\",\n",
        "    \"Pakistan\":\"Islamabad\",\n",
        "    \"Nepal\":\"Katmandu\"\n",
        "}\n",
        "country[\"Afganistan\"]=\"kabul\"\n",
        "print(country)"
      ],
      "metadata": {
        "colab": {
          "base_uri": "https://localhost:8080/"
        },
        "id": "MIXBl8bPFqYL",
        "outputId": "e0658da8-16f8-42c3-c93b-77c203becfd2"
      },
      "execution_count": 5,
      "outputs": [
        {
          "output_type": "stream",
          "name": "stdout",
          "text": [
            "{'Bangladesh': 'Dhaka', 'India': 'New Delhi', 'Pakistan': 'Islamabad', 'Nepal': 'Katmandu', 'Afganistan': 'kabul'}\n"
          ]
        }
      ]
    },
    {
      "cell_type": "code",
      "source": [
        "# 3.nested dictionary\n",
        "country={\n",
        "    \"Bangladesh\":{\n",
        "        \"Dhaka\":\"Dhanmondi\",\n",
        "        \"Street\" :1208,\n",
        "        \"Location\":\"Tejgaon\"\n",
        "    },\n",
        "    \"India\":\"New Delhi\",\n",
        "    \"Pakistan\":\"Islamabad\",\n",
        "    \"Nepal\":\"Katmandu\"\n",
        "}\n",
        "print(country[\"Bangladesh\"][\"Street\"])"
      ],
      "metadata": {
        "colab": {
          "base_uri": "https://localhost:8080/"
        },
        "id": "5HrpqAYlGcnB",
        "outputId": "8fcd851a-7a17-4212-fa85-5cefca8d1ab4"
      },
      "execution_count": 7,
      "outputs": [
        {
          "output_type": "stream",
          "name": "stdout",
          "text": [
            "1208\n"
          ]
        }
      ]
    },
    {
      "cell_type": "code",
      "source": [
        "# 4.keys & values\n",
        "country={\n",
        "    \"Bangladesh\":{\n",
        "        \"Dhaka\":\"Dhanmondi\",\n",
        "        \"Street\" :1208,\n",
        "        \"Location\":\"Tejgaon\"\n",
        "    },\n",
        "    \"India\":\"New Delhi\",\n",
        "    \"Pakistan\":\"Islamabad\",\n",
        "    \"Nepal\":\"Katmandu\"\n",
        "}\n",
        "keys=country.keys()\n",
        "values=country.values()\n",
        "print(keys)\n",
        "print(values)\n",
        "\n"
      ],
      "metadata": {
        "colab": {
          "base_uri": "https://localhost:8080/"
        },
        "id": "k1xzcQKvJegD",
        "outputId": "6fbec594-deae-426d-aa7d-fe85a2758339"
      },
      "execution_count": 8,
      "outputs": [
        {
          "output_type": "stream",
          "name": "stdout",
          "text": [
            "dict_keys(['Bangladesh', 'India', 'Pakistan', 'Nepal'])\n",
            "dict_values([{'Dhaka': 'Dhanmondi', 'Street': 1208, 'Location': 'Tejgaon'}, 'New Delhi', 'Islamabad', 'Katmandu'])\n"
          ]
        }
      ]
    },
    {
      "cell_type": "code",
      "source": [
        "# 5.Loop dictionary\n",
        "country={\n",
        "    \"Bangladesh\":\"Dhaka\",\n",
        "    \"India\":\"New Delhi\",\n",
        "    \"Pakistan\":\"Islamabad\",\n",
        "    \"Nepal\":\"Katmandu\"\n",
        "}\n",
        "for items in country.items():\n",
        "  print(items)"
      ],
      "metadata": {
        "colab": {
          "base_uri": "https://localhost:8080/"
        },
        "id": "zoiFgfUcLanw",
        "outputId": "6bda3fe2-9306-4672-a3ce-c619627a9768"
      },
      "execution_count": 10,
      "outputs": [
        {
          "output_type": "stream",
          "name": "stdout",
          "text": [
            "('Bangladesh', 'Dhaka')\n",
            "('India', 'New Delhi')\n",
            "('Pakistan', 'Islamabad')\n",
            "('Nepal', 'Katmandu')\n"
          ]
        }
      ]
    },
    {
      "cell_type": "markdown",
      "source": [
        "Function"
      ],
      "metadata": {
        "id": "nWuiBenAMxhS"
      }
    },
    {
      "cell_type": "code",
      "source": [
        "# 1.calculation\n",
        "def math(a,b,c):\n",
        "  return a+b+c\n",
        "math(5,6,7)\n"
      ],
      "metadata": {
        "colab": {
          "base_uri": "https://localhost:8080/"
        },
        "id": "BarZiatfM2Om",
        "outputId": "97a072ef-b41c-487d-a69a-d2551e829a5b"
      },
      "execution_count": 11,
      "outputs": [
        {
          "output_type": "execute_result",
          "data": {
            "text/plain": [
              "18"
            ]
          },
          "metadata": {},
          "execution_count": 11
        }
      ]
    },
    {
      "cell_type": "code",
      "source": [
        "# 2.arguments\n",
        "def  arguments(*number):\n",
        "  sum=0\n",
        "  for i in number:\n",
        "    sum=sum+i\n",
        "  print(sum)\n",
        "arguments(10,20,30)"
      ],
      "metadata": {
        "colab": {
          "base_uri": "https://localhost:8080/"
        },
        "id": "z35eDo6gNI2w",
        "outputId": "a1507466-0e81-4b77-e53c-aa43b23b92e6"
      },
      "execution_count": 13,
      "outputs": [
        {
          "output_type": "stream",
          "name": "stdout",
          "text": [
            "60\n"
          ]
        }
      ]
    },
    {
      "cell_type": "code",
      "source": [
        "# 3.access global variable into function\n",
        "g=20\n",
        "def function():\n",
        "  a=20\n",
        "  a=a+10\n",
        "  global g\n",
        "  g=g+40\n",
        "  print(g)\n",
        "  print(a)\n",
        "function()"
      ],
      "metadata": {
        "colab": {
          "base_uri": "https://localhost:8080/"
        },
        "id": "blF4n2G_PCBU",
        "outputId": "cb74803f-05f4-4781-f782-e55a804236fe"
      },
      "execution_count": 15,
      "outputs": [
        {
          "output_type": "stream",
          "name": "stdout",
          "text": [
            "60\n",
            "30\n"
          ]
        }
      ]
    },
    {
      "cell_type": "code",
      "source": [
        "# 4.Default values\n",
        "def  default(a=10,b=20):\n",
        " print(a,b)\n",
        "\n",
        "default(a=\"name\",b=60)"
      ],
      "metadata": {
        "colab": {
          "base_uri": "https://localhost:8080/"
        },
        "id": "4jBJrmiXQCQJ",
        "outputId": "c7aaae94-3664-4f4c-8caf-c55da0a8f3e9"
      },
      "execution_count": 21,
      "outputs": [
        {
          "output_type": "stream",
          "name": "stdout",
          "text": [
            "name 60\n"
          ]
        }
      ]
    },
    {
      "cell_type": "code",
      "source": [
        "# 5.positional and keyword\n",
        "def function(a,b,/,x,y,*,c,d):\n",
        "  print(a,b,c,d,x,y)\n",
        "\n",
        "function(1,2,3,4,c=5,d=6)"
      ],
      "metadata": {
        "colab": {
          "base_uri": "https://localhost:8080/"
        },
        "id": "4xZkJnDzRXPj",
        "outputId": "7a7ec21a-b7cb-411d-f4a8-de0656862c7f"
      },
      "execution_count": 26,
      "outputs": [
        {
          "output_type": "stream",
          "name": "stdout",
          "text": [
            "1 2 5 6 3 4\n"
          ]
        }
      ]
    }
  ]
}